{
 "cells": [
  {
   "cell_type": "markdown",
   "id": "f9754eb9",
   "metadata": {},
   "source": [
    "# Length 7 and 10 CAZAC Experiments\n",
    "This notebook runs the first two tests described in the paper where we search for all CAZAC sequences of length 7 and of length 10."
   ]
  },
  {
   "cell_type": "markdown",
   "id": "02fac028",
   "metadata": {},
   "source": [
    "# Imports"
   ]
  },
  {
   "cell_type": "code",
   "execution_count": null,
   "id": "142c999f",
   "metadata": {},
   "outputs": [],
   "source": [
    "import numpy as np\n",
    "from tqdm import tqdm\n",
    "import scipy.optimize as opt\n",
    "import matplotlib.pyplot as plt"
   ]
  },
  {
   "cell_type": "markdown",
   "id": "fa532ee7",
   "metadata": {},
   "source": [
    "# Function Definitions\n",
    "We seperated the ambiguity function and autocorrelation function definitions for convenience. If one is only interested in the autocorrelations this saves significant time by not computing the nonzero Doppler shift values of the ambiguity function."
   ]
  },
  {
   "cell_type": "code",
   "execution_count": null,
   "id": "62c0a816",
   "metadata": {},
   "outputs": [],
   "source": [
    "def cazac_system(x):\n",
    "    n = int(len(x)/2)\n",
    "    a = x[:n]\n",
    "    b = x[n:]\n",
    "    F = np.zeros(3*n-2)\n",
    "    F[:n] = a**2 + b**2 - 1\n",
    "    for k in np.arange(1,n):\n",
    "        F[n+k-1] = np.sum(a*np.roll(a,k)+b*np.roll(b,k))\n",
    "        F[2*n-2+k] = np.sum(a*np.roll(b,k)-b*np.roll(a,k))\n",
    "    return F\n",
    "\n",
    "def aperiodic_ambiguity(seq):\n",
    "    n = len(seq)\n",
    "    AF = np.zeros((2*n-1,n),dtype='complex')\n",
    "    M = np.eye(n)*np.exp(2*np.pi*1j*np.arange(n)/n)\n",
    "    \n",
    "    # Negative time shift side\n",
    "    for k in np.arange(1,n):\n",
    "        for l in np.arange(n):\n",
    "            translate_seq = np.zeros(n,dtype='complex')\n",
    "            for j in np.arange(k,n):\n",
    "                translate_seq[j] = seq[j-k]\n",
    "            shift_seq = np.conjugate(np.linalg.matrix_power(M,l)@seq)\n",
    "            AF[n-1-k,l] = np.dot(translate_seq,shift_seq)\n",
    "    # Positive time shift side\n",
    "    for k in np.arange(n):\n",
    "        for l in np.arange(n):\n",
    "            translate_seq = np.zeros(n,dtype='complex')\n",
    "            for j in np.arange(n-k):\n",
    "                translate_seq[j] = seq[j+k]\n",
    "            shift_seq = np.conjugate(np.linalg.matrix_power(M,l)@seq)\n",
    "            AF[n-1+k,l] = np.dot(translate_seq,shift_seq)\n",
    "    return AF\n",
    "\n",
    "def aperiodic_autocorrelation(seq):\n",
    "    n = len(seq)\n",
    "    AC = np.zeros(2*n-1,dtype='complex')\n",
    "    \n",
    "    # Negative time shift side\n",
    "    for k in np.arange(1,n):\n",
    "        translate_seq = np.zeros(n,dtype='complex')\n",
    "        for j in np.arange(k,n):\n",
    "            translate_seq[j] = seq[j-k]\n",
    "        conj_seq = np.conjugate(seq)\n",
    "        AC[n-1-k] = np.dot(conj_seq,translate_seq)\n",
    "    # Positive time shift side\n",
    "    for k in np.arange(n):\n",
    "        translate_seq = np.zeros(n,dtype='complex')\n",
    "        for j in np.arange(n-k):\n",
    "            translate_seq[j] = seq[j+k]\n",
    "        conj_seq = np.conjugate(seq)\n",
    "        AC[n-1+k] = np.dot(conj_seq,translate_seq)\n",
    "    return AC"
   ]
  },
  {
   "cell_type": "markdown",
   "id": "da76f31f",
   "metadata": {},
   "source": [
    "# Length 7 CAZAC Sequence Search\n",
    "We used a large number of trials to try to enumrate all length 7 CAZACs. For convenience, we summarize what is known about the numbef of various length 7 CAZACs below.\n",
    "\n",
    "Number of length 7 CAZACs: 532<br>\n",
    "Roots of unity CAZACs known: 42<br>\n",
    "Non-roots of unity CAZACs known: Up to 252 (Bjorck)<br>"
   ]
  },
  {
   "cell_type": "code",
   "execution_count": null,
   "id": "0262465d",
   "metadata": {},
   "outputs": [],
   "source": [
    "trials7 = 10000\n",
    "rounding7 = 8\n",
    "cost_factor7 = -10"
   ]
  },
  {
   "cell_type": "code",
   "execution_count": null,
   "id": "faeb00cf",
   "metadata": {},
   "outputs": [],
   "source": [
    "opt_result = np.zeros((trials7,7),dtype='complex128')\n",
    "opt_cost = np.zeros((trials7))\n",
    "for trial in tqdm(np.arange(trials7)):\n",
    "    x0 = np.random.rand((14))\n",
    "    result = opt.least_squares(cazac_system,x0,jac='3-point',ftol=10**(-12),xtol=10**(-12),gtol=10**(-12))\n",
    "    sequence = result.x[:7]+1j*result.x[7:]\n",
    "    opt_result[trial,:] = sequence/sequence[0]\n",
    "    opt_cost[trial] = result.cost"
   ]
  },
  {
   "cell_type": "code",
   "execution_count": null,
   "id": "529925d4",
   "metadata": {
    "scrolled": true
   },
   "outputs": [],
   "source": [
    "cost_result = np.reshape(opt_result[np.where(opt_cost < 10**(cost_factor7)),:],(-1,7))\n",
    "result_round = np.round(cost_result,decimals=rounding7)\n",
    "result_unique = np.unique(result_round,axis=0)\n",
    "print('Maximum cost: %.6e'%np.max(opt_cost))\n",
    "print('Sequences found: %d'%result_unique.shape[0])"
   ]
  },
  {
   "cell_type": "markdown",
   "id": "cd64f668",
   "metadata": {},
   "source": [
    "# Filtering Out Known Length 7 CAZACs\n",
    "We wanted to examine the autocorrelation properties of a new length 7 CAZAC sequences to the two major ones already known: Zadoff-Chu and Bjorck. To do this we looked at the orbit of each of those two sequences and removed any\n",
    "matching CAZAC sequence from the list of 532 sequences found."
   ]
  },
  {
   "cell_type": "code",
   "execution_count": null,
   "id": "4abe6052",
   "metadata": {},
   "outputs": [],
   "source": [
    "cazac7 = np.genfromtxt('cazac_len7_result.csv',dtype=None)\n",
    "T = np.zeros((7,7))\n",
    "M = np.eye(7)*np.exp(2*np.pi*1j*np.arange(7)/7)\n",
    "for j in np.arange(1,7):\n",
    "    T[j,j-1]=1\n",
    "T[0,6] = 1\n",
    "D = np.zeros((6,7,7))\n",
    "for m in np.arange(6):\n",
    "    for j in np.arange(7):\n",
    "        D[m,j,(m+1)*j%7] = 1"
   ]
  },
  {
   "cell_type": "code",
   "execution_count": null,
   "id": "c4818ea7",
   "metadata": {},
   "outputs": [],
   "source": [
    "b = np.exp(1j*np.arccos(-3/4))\n",
    "B = np.array([1,1,1,b,1,b,b])"
   ]
  },
  {
   "cell_type": "code",
   "execution_count": null,
   "id": "f4486f71",
   "metadata": {},
   "outputs": [],
   "source": [
    "Fcazac7 = np.zeros((532,7),dtype='complex')\n",
    "Fcazac7[:,:] = cazac7[:,:]\n",
    "for k in np.arange(7):\n",
    "    for l in np.arange(7):\n",
    "        for m in np.arange(6):\n",
    "            matchMtx = np.linalg.matrix_power(M,l)@np.linalg.matrix_power(T,k)@D[m,:,:]@B\n",
    "            matchMtx = matchMtx/matchMtx[0]\n",
    "            rowmatch = np.where(np.sum(np.abs(cazac7 - matchMtx),axis=1) < 10**-5)\n",
    "            rowmatch_conjugate = np.where(np.sum(np.abs(cazac7 - np.conjugate(matchMtx)),axis=1) < 10**-5)\n",
    "            Fcazac7[rowmatch,:] = -10\n",
    "            Fcazac7[rowmatch_conjugate,:] = -10\n",
    "Fcazac7 = Fcazac7[np.where(Fcazac7[:,0] != -10)[0],:]\n",
    "print(Fcazac7.shape)"
   ]
  },
  {
   "cell_type": "code",
   "execution_count": null,
   "id": "d190793d",
   "metadata": {
    "scrolled": true
   },
   "outputs": [],
   "source": [
    "w = np.exp(2*np.pi*1j/7)\n",
    "qp = np.array([1,w,w**3,w**6,w**10,w**15,w**21])"
   ]
  },
  {
   "cell_type": "code",
   "execution_count": null,
   "id": "52b54137",
   "metadata": {},
   "outputs": [],
   "source": [
    "NewCazac7 = np.zeros((Fcazac7.shape[0],7), dtype ='complex')\n",
    "NewCazac7[:,:] = Fcazac7[:,:]\n",
    "for k in np.arange(7):\n",
    "    for l in np.arange(7):\n",
    "        for m in np.arange(6):\n",
    "            matchMtx = np.linalg.matrix_power(M,l)@np.linalg.matrix_power(T,k)@D[m,:,:]@qp\n",
    "            matchMtx = matchMtx/matchMtx[0]\n",
    "            rowmatch = np.where(np.sum(np.abs(Fcazac7 - matchMtx),axis=1) < 10**-5)\n",
    "            rowmatch_conjugate = np.where(np.sum(np.abs(Fcazac7 - np.conjugate(matchMtx)),axis=1) < 10**-5)\n",
    "            NewCazac7[rowmatch,:] = -10\n",
    "            NewCazac7[rowmatch_conjugate,:] = -10\n",
    "NewCazac7 = NewCazac7[np.where(NewCazac7[:,0] != -10)[0],:]\n",
    "np.savetxt('cazac_len7_result_new.csv',NewCazac7,fmt='%.8f')\n",
    "print(NewCazac7.shape)"
   ]
  },
  {
   "cell_type": "markdown",
   "id": "22ba0c57",
   "metadata": {},
   "source": [
    "# Aperiodic Comparison for Length 7"
   ]
  },
  {
   "cell_type": "code",
   "execution_count": null,
   "id": "908963fa",
   "metadata": {},
   "outputs": [],
   "source": [
    "# Pick which new CAZAC sequence you want to use. \n",
    "#The default here is the one we found with the best autocorrelation properties.\n",
    "CAZAC_select = 197\n",
    "\n",
    "chu = np.exp(np.pi*1j*np.arange(7)*(np.arange(7)-1)/7)\n",
    "AC_chu = aperiodic_autocorrelation(chu)\n",
    "AC_bjorck = aperiodic_autocorrelation(B)\n",
    "AC_new = aperiodic_autocorrelation(NewCazac7[CAZAC_select,:])\n",
    "psl_chu7 = np.max((np.abs(AF_chu[:6])/7,np.abs(AF_chu[7:]/7)))\n",
    "psl_bjorck7 = np.max((np.abs(AF_bjorck[:6])/7,np.abs(AF_bjorck[7:]/7)))\n",
    "psl_new7 = np.max((np.abs(AF_new[:6])/7,np.abs(AF_new[7:]/7)))"
   ]
  },
  {
   "cell_type": "code",
   "execution_count": null,
   "id": "e10b9a4c",
   "metadata": {},
   "outputs": [],
   "source": [
    "fig = plt.figure()\n",
    "ax = fig.add_subplot(111)\n",
    "ax.plot(-6+np.arange(13),np.abs(AC_chu),c='#fc8d62',label='Zadoff-Chu')\n",
    "ax.plot(-6+np.arange(13),np.abs(AC_new),c='#202020',label='New CAZAC')\n",
    "ax.plot(-6+np.arange(13),np.abs(AC_bjorck),c='#8d90db',label='Bjorck')\n",
    "ax.set_xlabel(r'Time shift $k$',size='x-large')\n",
    "ax.set_ylabel(r'$|A_a(x)[k]|$',size='x-large')\n",
    "plt.xticks(fontsize=14)\n",
    "plt.yticks(fontsize=14)\n",
    "plt.legend(prop={'size': 12})"
   ]
  },
  {
   "cell_type": "markdown",
   "id": "dd6412ed",
   "metadata": {},
   "source": [
    "# Length 10 CAZAC Sequence Search"
   ]
  },
  {
   "cell_type": "code",
   "execution_count": null,
   "id": "05bc4b25",
   "metadata": {},
   "outputs": [],
   "source": [
    "trials = 200000\n",
    "rounding = 8\n",
    "cost_factor = -10"
   ]
  },
  {
   "cell_type": "code",
   "execution_count": null,
   "id": "9e90f8e4",
   "metadata": {},
   "outputs": [],
   "source": [
    "opt_result = np.zeros((trials,10),dtype='complex128')\n",
    "opt_cost = np.zeros((trials))\n",
    "for trial in tqdm(np.arange(trials)):\n",
    "    x0 = np.random.rand(20)\n",
    "    result = opt.least_squares(cazac_system,x0,jac='3-point',ftol=10**(-12),xtol=10**(-12),gtol=10**(-12))\n",
    "    sequence = result.x[:10]+1j*result.x[10:]\n",
    "    opt_result[trial,:] = sequence/sequence[0]\n",
    "    opt_cost[trial] = result.cost"
   ]
  },
  {
   "cell_type": "code",
   "execution_count": null,
   "id": "924cde56",
   "metadata": {},
   "outputs": [],
   "source": [
    "cost_result = np.reshape(opt_result[np.where(opt_cost < 10**(cost_factor)),:],(-1,10))\n",
    "result_round = np.round(cost_result,decimals=rounding)\n",
    "result_unique = np.unique(result_round,axis=0)\n",
    "print('Maximum cost: %.6e'%np.max(opt_cost))\n",
    "print('Sequences found: %d'%result_unique.shape[0])"
   ]
  }
 ],
 "metadata": {
  "kernelspec": {
   "display_name": "Python 3 (ipykernel)",
   "language": "python",
   "name": "python3"
  },
  "language_info": {
   "codemirror_mode": {
    "name": "ipython",
    "version": 3
   },
   "file_extension": ".py",
   "mimetype": "text/x-python",
   "name": "python",
   "nbconvert_exporter": "python",
   "pygments_lexer": "ipython3",
   "version": "3.9.12"
  }
 },
 "nbformat": 4,
 "nbformat_minor": 5
}
