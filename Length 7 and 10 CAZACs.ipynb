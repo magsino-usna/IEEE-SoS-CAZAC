{
 "cells": [
  {
   "cell_type": "markdown",
   "id": "f9754eb9",
   "metadata": {},
   "source": [
    "# Length 7 and 10 CAZAC experiments"
   ]
  },
  {
   "cell_type": "markdown",
   "id": "02fac028",
   "metadata": {},
   "source": [
    "## Imports"
   ]
  },
  {
   "cell_type": "code",
   "execution_count": 2,
   "id": "142c999f",
   "metadata": {},
   "outputs": [],
   "source": [
    "import numpy as np\n",
    "from tqdm import tqdm\n",
    "import scipy.optimize as opt\n",
    "import matplotlib.pyplot as plt"
   ]
  },
  {
   "cell_type": "markdown",
   "id": "fa532ee7",
   "metadata": {},
   "source": [
    "## Real system which defines CAZACs"
   ]
  },
  {
   "cell_type": "code",
   "execution_count": 3,
   "id": "62c0a816",
   "metadata": {},
   "outputs": [],
   "source": [
    "def cazac_system(x):\n",
    "    n = int(len(x)/2)\n",
    "    a = x[:n]\n",
    "    b = x[n:]\n",
    "    F = np.zeros(3*n-2)\n",
    "    F[:n] = a**2 + b**2 - 1\n",
    "    for k in np.arange(1,n):\n",
    "        F[n+k-1] = np.sum(a*np.roll(a,k)+b*np.roll(b,k))\n",
    "        F[2*n-2+k] = np.sum(a*np.roll(b,k)-b*np.roll(a,k))\n",
    "    return F"
   ]
  },
  {
   "cell_type": "markdown",
   "id": "da76f31f",
   "metadata": {},
   "source": [
    "## Length 7 CAZAC Sequences\n",
    "Number of length 7 CAZACs: 532<br>\n",
    "Roots of unity CAZACs known: 42<br>\n",
    "Non-roots of unity CAZACs known: Up to 252 (Bjorck)<br>"
   ]
  },
  {
   "cell_type": "code",
   "execution_count": 28,
   "id": "0262465d",
   "metadata": {},
   "outputs": [],
   "source": [
    "trials7 = 10000\n",
    "rounding7 = 8\n",
    "cost_factor7 = -10"
   ]
  },
  {
   "cell_type": "code",
   "execution_count": 29,
   "id": "faeb00cf",
   "metadata": {},
   "outputs": [
    {
     "name": "stderr",
     "output_type": "stream",
     "text": [
      "100%|█████████████████████████████████████| 10000/10000 [15:26<00:00, 10.80it/s]\n"
     ]
    }
   ],
   "source": [
    "opt_result = np.zeros((trials7,7),dtype='complex128')\n",
    "opt_cost = np.zeros((trials7))\n",
    "for trial in tqdm(np.arange(trials7)):\n",
    "    x0 = np.random.rand((14))\n",
    "    result = opt.least_squares(cazac_system,x0,jac='3-point',ftol=10**(-12),xtol=10**(-12),gtol=10**(-12))\n",
    "    sequence = result.x[:7]+1j*result.x[7:]\n",
    "    opt_result[trial,:] = sequence/sequence[0]\n",
    "    opt_cost[trial] = result.cost"
   ]
  },
  {
   "cell_type": "code",
   "execution_count": 61,
   "id": "529925d4",
   "metadata": {
    "scrolled": true
   },
   "outputs": [
    {
     "name": "stdout",
     "output_type": "stream",
     "text": [
      "Maximum cost: 9.917184e-25\n",
      "Sequences found: 532\n"
     ]
    }
   ],
   "source": [
    "cost_result = np.reshape(opt_result[np.where(opt_cost < 10**(cost_factor7)),:],(-1,7))\n",
    "result_round = np.round(cost_result,decimals=rounding7)\n",
    "result_unique = np.unique(result_round,axis=0)\n",
    "np.savetxt('cazac_len7_result.csv',result_unique,fmt='%.8f')\n",
    "np.savetxt('cazac_len7_cost.csv',opt_cost)\n",
    "print('Maximum cost: %.6e'%np.max(opt_cost))\n",
    "print('Sequences found: %d'%result_unique.shape[0])"
   ]
  },
  {
   "cell_type": "markdown",
   "id": "cd64f668",
   "metadata": {},
   "source": [
    "# Filtering out known length 7 CAZACs"
   ]
  },
  {
   "cell_type": "code",
   "execution_count": 4,
   "id": "4abe6052",
   "metadata": {},
   "outputs": [],
   "source": [
    "cazac7 = np.genfromtxt('cazac_len7_result.csv',dtype=None)\n",
    "T = np.zeros((7,7))\n",
    "M = np.eye(7)*np.exp(2*np.pi*1j*np.arange(7)/7)\n",
    "for j in np.arange(1,7):\n",
    "    T[j,j-1]=1\n",
    "T[0,6] = 1\n",
    "D = np.zeros((6,7,7))\n",
    "for m in np.arange(6):\n",
    "    for j in np.arange(7):\n",
    "        D[m,j,(m+1)*j%7] = 1"
   ]
  },
  {
   "cell_type": "code",
   "execution_count": 5,
   "id": "c4818ea7",
   "metadata": {},
   "outputs": [],
   "source": [
    "b = np.exp(1j*np.arccos(-3/4))\n",
    "B = np.array([1,1,1,b,1,b,b])"
   ]
  },
  {
   "cell_type": "code",
   "execution_count": 6,
   "id": "f4486f71",
   "metadata": {},
   "outputs": [
    {
     "name": "stdout",
     "output_type": "stream",
     "text": [
      "(336, 7)\n"
     ]
    }
   ],
   "source": [
    "Fcazac7 = np.zeros((532,7),dtype='complex')\n",
    "Fcazac7[:,:] = cazac7[:,:]\n",
    "for k in np.arange(7):\n",
    "    for l in np.arange(7):\n",
    "        for m in np.arange(6):\n",
    "            matchMtx = np.linalg.matrix_power(M,l)@np.linalg.matrix_power(T,k)@D[m,:,:]@B\n",
    "            matchMtx = matchMtx/matchMtx[0]\n",
    "            rowmatch = np.where(np.sum(np.abs(cazac7 - matchMtx),axis=1) < 10**-5)\n",
    "            rowmatch_conjugate = np.where(np.sum(np.abs(cazac7 - np.conjugate(matchMtx)),axis=1) < 10**-5)\n",
    "            Fcazac7[rowmatch,:] = -10\n",
    "            Fcazac7[rowmatch_conjugate,:] = -10\n",
    "Fcazac7 = Fcazac7[np.where(Fcazac7[:,0] != -10)[0],:]\n",
    "print(Fcazac7.shape)"
   ]
  },
  {
   "cell_type": "code",
   "execution_count": 7,
   "id": "d190793d",
   "metadata": {
    "scrolled": true
   },
   "outputs": [],
   "source": [
    "w = np.exp(2*np.pi*1j/7)\n",
    "qp = np.array([1,w,w**3,w**6,w**10,w**15,w**21])"
   ]
  },
  {
   "cell_type": "code",
   "execution_count": 8,
   "id": "52b54137",
   "metadata": {},
   "outputs": [
    {
     "name": "stdout",
     "output_type": "stream",
     "text": [
      "(294, 7)\n"
     ]
    }
   ],
   "source": [
    "NewCazac7 = np.zeros((Fcazac7.shape[0],7), dtype ='complex')\n",
    "NewCazac7[:,:] = Fcazac7[:,:]\n",
    "for k in np.arange(7):\n",
    "    for l in np.arange(7):\n",
    "        for m in np.arange(6):\n",
    "            matchMtx = np.linalg.matrix_power(M,l)@np.linalg.matrix_power(T,k)@D[m,:,:]@qp\n",
    "            matchMtx = matchMtx/matchMtx[0]\n",
    "            rowmatch = np.where(np.sum(np.abs(Fcazac7 - matchMtx),axis=1) < 10**-5)\n",
    "            rowmatch_conjugate = np.where(np.sum(np.abs(Fcazac7 - np.conjugate(matchMtx)),axis=1) < 10**-5)\n",
    "            NewCazac7[rowmatch,:] = -10\n",
    "            NewCazac7[rowmatch_conjugate,:] = -10\n",
    "NewCazac7 = NewCazac7[np.where(NewCazac7[:,0] != -10)[0],:]\n",
    "np.savetxt('cazac_len7_result_new.csv',NewCazac7,fmt='%.8f')\n",
    "print(NewCazac7.shape)"
   ]
  },
  {
   "cell_type": "markdown",
   "id": "22ba0c57",
   "metadata": {},
   "source": [
    "# Aperiodic Simulation for length 7"
   ]
  },
  {
   "cell_type": "code",
   "execution_count": 1,
   "id": "c89416ce",
   "metadata": {},
   "outputs": [],
   "source": [
    "def aperiodic_ambiguity(seq):\n",
    "    n = len(seq)\n",
    "    AF = np.zeros((2*n-1,n),dtype='complex')\n",
    "    M = np.eye(n)*np.exp(2*np.pi*1j*np.arange(n)/n)\n",
    "    \n",
    "    # Negative time shift side\n",
    "    for k in np.arange(1,n):\n",
    "        for l in np.arange(n):\n",
    "            translate_seq = np.zeros(n,dtype='complex')\n",
    "            for j in np.arange(k,n):\n",
    "                translate_seq[j] = seq[j-k]\n",
    "            shift_seq = np.conjugate(np.linalg.matrix_power(M,l)@seq)\n",
    "            AF[n-1-k,l] = np.dot(translate_seq,shift_seq)\n",
    "    # Positive time shift side\n",
    "    for k in np.arange(n):\n",
    "        for l in np.arange(n):\n",
    "            translate_seq = np.zeros(n,dtype='complex')\n",
    "            for j in np.arange(n-k):\n",
    "                translate_seq[j] = seq[j+k]\n",
    "            shift_seq = np.conjugate(np.linalg.matrix_power(M,l)@seq)\n",
    "            AF[n-1+k,l] = np.dot(translate_seq,shift_seq)\n",
    "    return AF\n",
    "\n",
    "def aperiodic_autocorrelation(seq):\n",
    "    n = len(seq)\n",
    "    AC = np.zeros(2*n-1,dtype='complex')\n",
    "    \n",
    "    # Negative time shift side\n",
    "    for k in np.arange(1,n):\n",
    "        translate_seq = np.zeros(n,dtype='complex')\n",
    "        for j in np.arange(k,n):\n",
    "            translate_seq[j] = seq[j-k]\n",
    "        conj_seq = np.conjugate(seq)\n",
    "        AC[n-1-k] = np.dot(conj_seq,translate_seq)\n",
    "    # Positive time shift side\n",
    "    for k in np.arange(n):\n",
    "        translate_seq = np.zeros(n,dtype='complex')\n",
    "        for j in np.arange(n-k):\n",
    "            translate_seq[j] = seq[j+k]\n",
    "        conj_seq = np.conjugate(seq)\n",
    "        AC[n-1+k] = np.dot(conj_seq,translate_seq)\n",
    "    return AC"
   ]
  },
  {
   "cell_type": "code",
   "execution_count": 22,
   "id": "908963fa",
   "metadata": {},
   "outputs": [
    {
     "name": "stdout",
     "output_type": "stream",
     "text": [
      "[ 1.        +0.j          0.53771613-0.84312595j  0.10887961-0.99405494j\n",
      "  0.16381093+0.98649175j  0.94490392+0.32734781j -0.85028413+0.52632395j\n",
      "  0.6234898 -0.78183148j]\n"
     ]
    }
   ],
   "source": [
    "chu = np.exp(np.pi*1j*np.arange(7)*(np.arange(7)-1)/7)\n",
    "AC_chu = aperiodic_autocorrelation(chu)\n",
    "AC_bjorck = aperiodic_autocorrelation(B)\n",
    "AC_new = aperiodic_autocorrelation(NewCazac7[197,:])\n",
    "print(NewCazac7[197,:])\n",
    "psl_chu7 = np.max((np.abs(AF_chu[:6])/7,np.abs(AF_chu[7:]/7)))\n",
    "psl_bjorck7 = np.max((np.abs(AF_bjorck[:6])/7,np.abs(AF_bjorck[7:]/7)))\n",
    "psl_new7 = np.max((np.abs(AF_new[:6])/7,np.abs(AF_new[7:]/7)))"
   ]
  },
  {
   "cell_type": "code",
   "execution_count": 13,
   "id": "860a17a6",
   "metadata": {},
   "outputs": [
    {
     "name": "stdout",
     "output_type": "stream",
     "text": [
      "197\n"
     ]
    }
   ],
   "source": []
  },
  {
   "cell_type": "code",
   "execution_count": 34,
   "id": "ccd073c8",
   "metadata": {},
   "outputs": [],
   "source": [
    "new_opt = NewCazac7[197,:]\n",
    "AF_chu = aperiodic_ambiguity(chu)\n",
    "AF_newopt = aperiodic_ambiguity(new_opt)\n",
    "AF_bjorck = aperiodic_ambiguity(B)"
   ]
  },
  {
   "cell_type": "markdown",
   "id": "601baf2e",
   "metadata": {},
   "source": [
    "# Making pictures"
   ]
  },
  {
   "cell_type": "code",
   "execution_count": 22,
   "id": "86fa9308",
   "metadata": {},
   "outputs": [
    {
     "name": "stdout",
     "output_type": "stream",
     "text": [
      "0.41282969070020564\n"
     ]
    },
    {
     "ename": "AttributeError",
     "evalue": "'Axes3DSubplot' object has no attribute 'plot_meshgrid'",
     "output_type": "error",
     "traceback": [
      "\u001b[0;31m---------------------------------------------------------------------------\u001b[0m",
      "\u001b[0;31mAttributeError\u001b[0m                            Traceback (most recent call last)",
      "Input \u001b[0;32mIn [22]\u001b[0m, in \u001b[0;36m<cell line: 11>\u001b[0;34m()\u001b[0m\n\u001b[1;32m      9\u001b[0m \u001b[38;5;28mprint\u001b[39m(Z[\u001b[38;5;241m0\u001b[39m,\u001b[38;5;241m3\u001b[39m])\n\u001b[1;32m     10\u001b[0m \u001b[38;5;66;03m#ax.plot_surface(X,Y,Z,cmap='binary')\u001b[39;00m\n\u001b[0;32m---> 11\u001b[0m \u001b[43max\u001b[49m\u001b[38;5;241;43m.\u001b[39;49m\u001b[43mplot_meshgrid\u001b[49m(Y,X,Z\u001b[38;5;241m.\u001b[39mT,cmap\u001b[38;5;241m=\u001b[39m\u001b[38;5;124m'\u001b[39m\u001b[38;5;124mbinary\u001b[39m\u001b[38;5;124m'\u001b[39m,linewidth\u001b[38;5;241m=\u001b[39m\u001b[38;5;241m0\u001b[39m,antialiased\u001b[38;5;241m=\u001b[39m\u001b[38;5;28;01mTrue\u001b[39;00m)\n\u001b[1;32m     12\u001b[0m ax\u001b[38;5;241m.\u001b[39minvert_xaxis()\n\u001b[1;32m     13\u001b[0m ax\u001b[38;5;241m.\u001b[39mset_xlabel(\u001b[38;5;124m'\u001b[39m\u001b[38;5;124mDoppler shift\u001b[39m\u001b[38;5;124m'\u001b[39m)\n",
      "\u001b[0;31mAttributeError\u001b[0m: 'Axes3DSubplot' object has no attribute 'plot_meshgrid'"
     ]
    },
    {
     "data": {
      "image/png": "[encoded data removed]",
      "text/plain": [
       "<Figure size 432x288 with 1 Axes>"
      ]
     },
     "metadata": {
      "needs_background": "light"
     },
     "output_type": "display_data"
    }
   ],
   "source": [
    "fig = plt.figure()\n",
    "ax = plt.axes(projection='3d')\n",
    "x = np.linspace(-3,3,7)\n",
    "y = np.linspace(0,6,7)\n",
    "X, Y = np.meshgrid(x,y)\n",
    "#Z = np.ones((len(x),len(y)))\n",
    "Z = np.abs(np.roll(AF_new,3,axis=0))/7\n",
    "Z2 = np.abs(np.roll(AF_bjorck,3,axis=0))/7\n",
    "print(Z[0,3])\n",
    "#ax.plot_surface(X,Y,Z,cmap='binary')\n",
    "ax.plot_meshgrid(Y,X,Z.T,cmap='binary',linewidth=0,antialiased=True)\n",
    "ax.invert_xaxis()\n",
    "ax.set_xlabel('Doppler shift')\n",
    "ax.set_ylabel('Time shift')\n",
    "ax.set_title('AF of a New CAZAC Sequence')\n",
    "plt.savefig('new_cazac_psl.png')"
   ]
  },
  {
   "cell_type": "code",
   "execution_count": 78,
   "id": "e10b9a4c",
   "metadata": {},
   "outputs": [
    {
     "data": {
      "image/png": "[encoded data removed]",
      "text/plain": [
       "<Figure size 432x288 with 1 Axes>"
      ]
     },
     "metadata": {
      "needs_background": "light"
     },
     "output_type": "display_data"
    }
   ],
   "source": [
    "fig = plt.figure()\n",
    "ax = fig.add_subplot(111)\n",
    "ax.plot(-6+np.arange(13),np.abs(AC_chu),c='#fc8d62',label='Zadoff-Chu')\n",
    "ax.plot(-6+np.arange(13),np.abs(AC_new),c='#202020',label='New CAZAC')\n",
    "ax.plot(-6+np.arange(13),np.abs(AC_bjorck),c='#8d90db',label='Bjorck')\n",
    "ax.set_xlabel(r'Time shift $k$',size='x-large')\n",
    "ax.set_ylabel(r'$|A_a(x)[k]|$',size='x-large')\n",
    "plt.xticks(fontsize=14)\n",
    "plt.yticks(fontsize=14)\n",
    "plt.legend(prop={'size': 12})\n",
    "plt.savefig('new_cazac_aac.png')"
   ]
  },
  {
   "cell_type": "markdown",
   "id": "dd6412ed",
   "metadata": {},
   "source": [
    "# Length 10 CAZACs"
   ]
  },
  {
   "cell_type": "code",
   "execution_count": 5,
   "id": "05bc4b25",
   "metadata": {},
   "outputs": [],
   "source": [
    "trials = 200000\n",
    "rounding = 8\n",
    "cost_factor = -10"
   ]
  },
  {
   "cell_type": "code",
   "execution_count": 6,
   "id": "9e90f8e4",
   "metadata": {},
   "outputs": [
    {
     "name": "stderr",
     "output_type": "stream",
     "text": [
      "100%|████████████████████████████████| 200000/200000 [12:41:08<00:00,  4.38it/s]\n"
     ]
    }
   ],
   "source": [
    "opt_result = np.zeros((trials,10),dtype='complex128')\n",
    "opt_cost = np.zeros((trials))\n",
    "for trial in tqdm(np.arange(trials)):\n",
    "    x0 = np.random.rand(20)\n",
    "    result = opt.least_squares(cazac_system,x0,jac='3-point',ftol=10**(-12),xtol=10**(-12),gtol=10**(-12))\n",
    "    sequence = result.x[:10]+1j*result.x[10:]\n",
    "    opt_result[trial,:] = sequence/sequence[0]\n",
    "    opt_cost[trial] = result.cost"
   ]
  },
  {
   "cell_type": "code",
   "execution_count": 8,
   "id": "924cde56",
   "metadata": {},
   "outputs": [
    {
     "name": "stdout",
     "output_type": "stream",
     "text": [
      "Maximum cost: 1.473457e-24\n",
      "Sequences found: 3040\n"
     ]
    }
   ],
   "source": [
    "cost_result = np.reshape(opt_result[np.where(opt_cost < 10**(cost_factor)),:],(-1,10))\n",
    "result_round = np.round(cost_result,decimals=rounding)\n",
    "result_unique = np.unique(result_round,axis=0)\n",
    "np.savetxt('cazac_len10_result_c128.csv',result_unique,fmt='%.8f')\n",
    "np.savetxt('cazac_len10_cost_c128.csv',opt_cost)\n",
    "print('Maximum cost: %.6e'%np.max(opt_cost))\n",
    "print('Sequences found: %d'%result_unique.shape[0])"
   ]
  },
  {
   "cell_type": "markdown",
   "id": "4518b2e8",
   "metadata": {},
   "source": [
    "# AAC Length 10"
   ]
  },
  {
   "cell_type": "code",
   "execution_count": 44,
   "id": "f0ab575c",
   "metadata": {},
   "outputs": [],
   "source": [
    "cazac10 = np.genfromtxt('cazac_len10_result_c128.csv',dtype=None)"
   ]
  },
  {
   "cell_type": "code",
   "execution_count": 45,
   "id": "c28666fa",
   "metadata": {},
   "outputs": [],
   "source": [
    "cazac10_psl = []\n",
    "for i in np.arange(3040):\n",
    "    AC = aperiodic_autocorrelation(cazac10[i,:])\n",
    "    cazac10_psl.append(np.max((np.abs(AC[:9]),np.abs(AC[10:])))/10)"
   ]
  },
  {
   "cell_type": "code",
   "execution_count": 58,
   "id": "8aa6fa7e",
   "metadata": {},
   "outputs": [
    {
     "data": {
      "text/plain": [
       "array([-0.        , -4.99366353,  1.96022662, -0.62790717, -0.32422719,\n",
       "        1.01033914,  3.86689849, -4.52769744,  2.14210387,  3.64346076])"
      ]
     },
     "execution_count": 58,
     "metadata": {},
     "output_type": "execute_result"
    }
   ],
   "source": [
    "np.angle(cazac10[0,:])*10/(2*np.pi)"
   ]
  },
  {
   "cell_type": "code",
   "execution_count": 56,
   "id": "92818283",
   "metadata": {},
   "outputs": [
    {
     "data": {
      "text/plain": [
       "array([0.1       , 0.09051921, 0.07970485, 0.15270597, 0.23309743,\n",
       "       0.15270597, 0.07970486, 0.09051921, 0.1       , 1.        ,\n",
       "       0.1       , 0.09051921, 0.07970486, 0.15270597, 0.23309743,\n",
       "       0.15270597, 0.07970485, 0.09051921, 0.1       ])"
      ]
     },
     "execution_count": 56,
     "metadata": {},
     "output_type": "execute_result"
    }
   ],
   "source": [
    "cazac10[0,:]\n",
    "np.abs(aperiodic_autocorrelation(cazac10[0,:]))/10"
   ]
  },
  {
   "cell_type": "code",
   "execution_count": null,
   "id": "88cbbbae",
   "metadata": {},
   "outputs": [],
   "source": []
  }
 ],
 "metadata": {
  "kernelspec": {
   "display_name": "Python 3 (ipykernel)",
   "language": "python",
   "name": "python3"
  },
  "language_info": {
   "codemirror_mode": {
    "name": "ipython",
    "version": 3
   },
   "file_extension": ".py",
   "mimetype": "text/x-python",
   "name": "python",
   "nbconvert_exporter": "python",
   "pygments_lexer": "ipython3",
   "version": "3.9.12"
  }
 },
 "nbformat": 4,
 "nbformat_minor": 5
}
