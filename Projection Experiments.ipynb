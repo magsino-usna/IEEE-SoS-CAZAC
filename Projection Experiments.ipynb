{
 "cells": [
  {
   "cell_type": "code",
   "execution_count": 1,
   "id": "ba33b039",
   "metadata": {},
   "outputs": [],
   "source": [
    "import numpy as np\n",
    "import scipy.optimize as opt\n",
    "import matplotlib.pyplot as plt\n",
    "from tqdm import tqdm"
   ]
  },
  {
   "cell_type": "code",
   "execution_count": 2,
   "id": "fac06fe5",
   "metadata": {},
   "outputs": [],
   "source": [
    "def cont_func(x):\n",
    "    return x[0]**3-x[0]-x[1]"
   ]
  },
  {
   "cell_type": "code",
   "execution_count": 3,
   "id": "a08856e0",
   "metadata": {},
   "outputs": [],
   "source": [
    "def disc_func(x):\n",
    "    F = np.zeros(2)\n",
    "    F[0] = x[0]**2+x[1]**2-1\n",
    "    F[1] = 8*x[0]**4-10*x[0]**2-x[1]+2\n",
    "    return F"
   ]
  },
  {
   "cell_type": "code",
   "execution_count": 4,
   "id": "135c568d",
   "metadata": {},
   "outputs": [
    {
     "name": "stderr",
     "output_type": "stream",
     "text": [
      "100%|██████████████████████████████████████| 1000/1000 [00:07<00:00, 138.79it/s]\n"
     ]
    }
   ],
   "source": [
    "trials = 1000\n",
    "xcont = np.zeros((trials,2))\n",
    "xdisc = np.zeros((trials,2))\n",
    "x0set = np.zeros((trials,2))\n",
    "\n",
    "for trial in tqdm(np.arange(trials)):\n",
    "    x0 = -1+2*np.random.rand(2)\n",
    "    x0set[trial,:] = x0\n",
    "    result_cont = opt.least_squares(cont_func,x0)\n",
    "    result_disc = opt.least_squares(disc_func,x0)\n",
    "    xcont[trial,:] = result_cont.x\n",
    "    xdisc[trial,:] = result_disc.x"
   ]
  },
  {
   "cell_type": "code",
   "execution_count": 40,
   "id": "d245a126",
   "metadata": {},
   "outputs": [
    {
     "name": "stdout",
     "output_type": "stream",
     "text": [
      "997\n",
      "8\n"
     ]
    }
   ],
   "source": [
    "print(np.unique(np.round(xcont,decimals=5),axis=0).shape[0])\n",
    "print(np.unique(np.round(xdisc,decimals=5),axis=0).shape[0])"
   ]
  },
  {
   "cell_type": "code",
   "execution_count": 15,
   "id": "bad29f95",
   "metadata": {},
   "outputs": [
    {
     "data": {
      "text/plain": [
       "array([[-1.     ,  0.     ],\n",
       "       [-0.98481, -0.17365],\n",
       "       [-0.64279, -0.76604],\n",
       "       [-0.34202,  0.93969],\n",
       "       [ 0.34202,  0.93969],\n",
       "       [ 0.64279, -0.76604],\n",
       "       [ 0.98481, -0.17365],\n",
       "       [ 1.     ,  0.     ]])"
      ]
     },
     "execution_count": 15,
     "metadata": {},
     "output_type": "execute_result"
    }
   ],
   "source": [
    "np.unique(np.round(xdisc,decimals=5),axis=0)"
   ]
  },
  {
   "cell_type": "code",
   "execution_count": 7,
   "id": "042e90f5",
   "metadata": {},
   "outputs": [
    {
     "data": {
      "image/png": "[encoded data removed]",
      "text/plain": [
       "<Figure size 576x288 with 2 Axes>"
      ]
     },
     "metadata": {
      "needs_background": "light"
     },
     "output_type": "display_data"
    }
   ],
   "source": [
    "fig = plt.figure(figsize=(8,4))\n",
    "ax = fig.add_subplot(121)\n",
    "im = ax.scatter(xcont[:,0],xcont[:,1],s=2,c='#8d90db')\n",
    "ax.tick_params(axis='both',labelsize=14)\n",
    "ax2 = fig.add_subplot(122)\n",
    "im2 = ax2.scatter(xdisc[:,0],xdisc[:,1],s=16,c='#8d90db')\n",
    "ax2.set_xlabel('x',size='x-large')\n",
    "ax.set_xlabel('x',size='x-large')\n",
    "ax.set_ylabel('y',size='x-large')\n",
    "ax2.set_ylabel('y',size='x-large')\n",
    "ax2.tick_params(axis='both',labelsize=14)\n",
    "fig.tight_layout()\n",
    "plt.savefig('projection_experiments.png',bbox_inches='tight')"
   ]
  },
  {
   "cell_type": "code",
   "execution_count": null,
   "id": "696a6a20",
   "metadata": {},
   "outputs": [],
   "source": []
  }
 ],
 "metadata": {
  "kernelspec": {
   "display_name": "Python 3 (ipykernel)",
   "language": "python",
   "name": "python3"
  },
  "language_info": {
   "codemirror_mode": {
    "name": "ipython",
    "version": 3
   },
   "file_extension": ".py",
   "mimetype": "text/x-python",
   "name": "python",
   "nbconvert_exporter": "python",
   "pygments_lexer": "ipython3",
   "version": "3.9.12"
  }
 },
 "nbformat": 4,
 "nbformat_minor": 5
}
