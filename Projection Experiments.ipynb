{
 "cells": [
  {
   "cell_type": "markdown",
   "id": "c9591e59",
   "metadata": {},
   "source": [
    "# Projection Experiments\n",
    "This Jupyter notebook simulates taking a set number of points and using nonlinear sum of squares to find the nearest point on a (real) algebraic variety."
   ]
  },
  {
   "cell_type": "code",
   "execution_count": null,
   "id": "ba33b039",
   "metadata": {},
   "outputs": [],
   "source": [
    "import numpy as np\n",
    "import scipy.optimize as opt\n",
    "import matplotlib.pyplot as plt\n",
    "from tqdm import tqdm"
   ]
  },
  {
   "cell_type": "markdown",
   "id": "30d168a7",
   "metadata": {},
   "source": [
    "# Continuous/Discrete Curve Definitions\n",
    "You can adjust the functions that you want to try to project onto here."
   ]
  },
  {
   "cell_type": "code",
   "execution_count": null,
   "id": "fac06fe5",
   "metadata": {},
   "outputs": [],
   "source": [
    "def cont_func(x):\n",
    "    return x[0]**3-x[0]-x[1]"
   ]
  },
  {
   "cell_type": "code",
   "execution_count": null,
   "id": "a08856e0",
   "metadata": {},
   "outputs": [],
   "source": [
    "def disc_func(x):\n",
    "    F = np.zeros(2)\n",
    "    F[0] = x[0]**2+x[1]**2-1\n",
    "    F[1] = 8*x[0]**4-10*x[0]**2-x[1]+2\n",
    "    return F"
   ]
  },
  {
   "cell_type": "markdown",
   "id": "37d2f8d9",
   "metadata": {},
   "source": [
    "# Experiment\n",
    "You can adjust the number of trials for the experiment here."
   ]
  },
  {
   "cell_type": "code",
   "execution_count": null,
   "id": "135c568d",
   "metadata": {},
   "outputs": [],
   "source": [
    "trials = 1000\n",
    "xcont = np.zeros((trials,2))\n",
    "xdisc = np.zeros((trials,2))\n",
    "x0set = np.zeros((trials,2))\n",
    "\n",
    "for trial in tqdm(np.arange(trials)):\n",
    "    x0 = -1+2*np.random.rand(2)\n",
    "    x0set[trial,:] = x0\n",
    "    result_cont = opt.least_squares(cont_func,x0)\n",
    "    result_disc = opt.least_squares(disc_func,x0)\n",
    "    xcont[trial,:] = result_cont.x\n",
    "    xdisc[trial,:] = result_disc.x"
   ]
  },
  {
   "cell_type": "code",
   "execution_count": null,
   "id": "d245a126",
   "metadata": {},
   "outputs": [],
   "source": [
    "print(np.unique(np.round(xcont,decimals=5),axis=0).shape[0])\n",
    "print(np.unique(np.round(xdisc,decimals=5),axis=0).shape[0])"
   ]
  },
  {
   "cell_type": "markdown",
   "id": "d38a1761",
   "metadata": {},
   "source": [
    "# Plotting\n",
    "This plots out the results of the experiment. Some of the visualization parameters can be adjusted here."
   ]
  },
  {
   "cell_type": "code",
   "execution_count": null,
   "id": "ba99c399",
   "metadata": {},
   "outputs": [],
   "source": [
    "fig = plt.figure(figsize=(8,4))\n",
    "ax = fig.add_subplot(121)\n",
    "im = ax.scatter(xcont[:,0],xcont[:,1],s=2,c='#8d90db')\n",
    "ax.tick_params(axis='both',labelsize=14)\n",
    "ax2 = fig.add_subplot(122)\n",
    "im2 = ax2.scatter(xdisc[:,0],xdisc[:,1],s=16,c='#8d90db')\n",
    "ax2.set_xlabel('x',size='x-large')\n",
    "ax.set_xlabel('x',size='x-large')\n",
    "ax.set_ylabel('y',size='x-large')\n",
    "ax2.set_ylabel('y',size='x-large')\n",
    "ax2.tick_params(axis='both',labelsize=14)\n",
    "fig.tight_layout()"
   ]
  }
 ],
 "metadata": {
  "kernelspec": {
   "display_name": "Python 3 (ipykernel)",
   "language": "python",
   "name": "python3"
  },
  "language_info": {
   "codemirror_mode": {
    "name": "ipython",
    "version": 3
   },
   "file_extension": ".py",
   "mimetype": "text/x-python",
   "name": "python",
   "nbconvert_exporter": "python",
   "pygments_lexer": "ipython3",
   "version": "3.9.12"
  }
 },
 "nbformat": 4,
 "nbformat_minor": 5
}
