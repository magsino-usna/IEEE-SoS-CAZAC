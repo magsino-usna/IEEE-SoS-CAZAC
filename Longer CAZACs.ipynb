{
 "cells": [
  {
   "cell_type": "markdown",
   "id": "65da74c0",
   "metadata": {},
   "source": [
    "# Aperiodic Autocorrelation Simulations for Longer CAZAC Sequences\n",
    "This notebook contains code to generate a desired number of CAZAC sequences of specified lengths and compares their autocorrelations. We picked prime lengths so that we could compare with the Bjorck sequences but in general there are known CAZAC sequences of any length that could be compared to."
   ]
  },
  {
   "cell_type": "markdown",
   "id": "4812207e",
   "metadata": {},
   "source": [
    "# Imports"
   ]
  },
  {
   "cell_type": "code",
   "execution_count": null,
   "id": "daabb6e4",
   "metadata": {},
   "outputs": [],
   "source": [
    "import numpy as np\n",
    "import scipy.optimize as opt\n",
    "from time import time\n",
    "import matplotlib.pyplot as plt\n",
    "from tqdm import tqdm\n",
    "from sympy import legendre_symbol"
   ]
  },
  {
   "cell_type": "markdown",
   "id": "88440727",
   "metadata": {},
   "source": [
    "# Defining Relevant Functions\n",
    "These are the functions that are used for the optimization and to compute properties of the resulting CAZAC sequences. The ambiguity and autocorrelation functions are seperated so that one can skip computing all the nonzero Doppler shift ambiguity function values if you are only interested in the autocorrelation."
   ]
  },
  {
   "cell_type": "code",
   "execution_count": null,
   "id": "89003c46",
   "metadata": {},
   "outputs": [],
   "source": [
    "def cazac_system(x):\n",
    "    n = int(len(x)/2)\n",
    "    a = x[:n]\n",
    "    b = x[n:]\n",
    "    F = np.zeros(3*n-2)\n",
    "    F[:n] = a**2 + b**2 - 1\n",
    "    for k in np.arange(1,n):\n",
    "        F[n+k-1] = np.sum(a*np.roll(a,k)+b*np.roll(b,k))\n",
    "        F[2*n-2+k] = np.sum(a*np.roll(b,k)-b*np.roll(a,k))\n",
    "    return F\n",
    "\n",
    "def aperiodic_ambiguity(seq):\n",
    "    n = len(seq)\n",
    "    AF = np.zeros((2*n-1,n),dtype='complex')\n",
    "    M = np.eye(n)*np.exp(2*np.pi*1j*np.arange(n)/n)\n",
    "    \n",
    "    # Negative time shift side\n",
    "    for k in np.arange(1,n):\n",
    "        for l in np.arange(n):\n",
    "            translate_seq = np.zeros(n,dtype='complex')\n",
    "            for j in np.arange(k,n):\n",
    "                translate_seq[j] = seq[j-k]\n",
    "            shift_seq = np.conjugate(np.linalg.matrix_power(M,l)@seq)\n",
    "            AF[n-1-k,l] = np.dot(translate_seq,shift_seq)\n",
    "    # Positive time shift side\n",
    "    for k in np.arange(n):\n",
    "        for l in np.arange(n):\n",
    "            translate_seq = np.zeros(n,dtype='complex')\n",
    "            for j in np.arange(n-k):\n",
    "                translate_seq[j] = seq[j+k]\n",
    "            shift_seq = np.conjugate(np.linalg.matrix_power(M,l)@seq)\n",
    "            AF[n-1+k,l] = np.dot(translate_seq,shift_seq)\n",
    "    return AF\n",
    "\n",
    "def aperiodic_autocorrelation(seq):\n",
    "    n = len(seq)\n",
    "    AC = np.zeros(2*n-1,dtype='complex')\n",
    "    \n",
    "    # Negative time shift side\n",
    "    for k in np.arange(1,n):\n",
    "        translate_seq = np.zeros(n,dtype='complex')\n",
    "        for j in np.arange(k,n):\n",
    "            translate_seq[j] = seq[j-k]\n",
    "        conj_seq = np.conjugate(seq)\n",
    "        AC[n-1-k] = np.dot(conj_seq,translate_seq)\n",
    "    # Positive time shift side\n",
    "    for k in np.arange(n):\n",
    "        translate_seq = np.zeros(n,dtype='complex')\n",
    "        for j in np.arange(n-k):\n",
    "            translate_seq[j] = seq[j+k]\n",
    "        conj_seq = np.conjugate(seq)\n",
    "        AC[n-1+k] = np.dot(conj_seq,translate_seq)\n",
    "    return AC"
   ]
  },
  {
   "cell_type": "markdown",
   "id": "0d6daf87",
   "metadata": {},
   "source": [
    "# Computing Autocorrelation Properties\n",
    "We generate as many CAZAC sequences of the desired lengths listed as wanted. Since some trials result do not succeed (the minimization gets stuck at a nonzero local minimum), we also add a maximum number of iterations. Although no theorem proves this, in practice most trials find a zero and do not get stuck at local minima.\n",
    "\n",
    "For this simulation, we specifically examine the PSL and ISL of the autocorrelations and do not save the actual\n",
    "autocorrelations themselves. This can easily be adjusted if needed."
   ]
  },
  {
   "cell_type": "code",
   "execution_count": null,
   "id": "7878468a",
   "metadata": {},
   "outputs": [],
   "source": [
    "lengths = np.array([11,13,17,23,29,37,43,47])\n",
    "sequences = 1000\n",
    "max_trials = 20000\n",
    "threshold = 10**(-8)"
   ]
  },
  {
   "cell_type": "code",
   "execution_count": null,
   "id": "277a8d0e",
   "metadata": {},
   "outputs": [],
   "source": [
    "result_psl = np.zeros((len(lengths),sequences))\n",
    "result_isl = np.zeros((len(lengths),sequences))\n",
    "for n in tqdm(lengths):\n",
    "    opt_result = []\n",
    "    trials = 0\n",
    "    success = 0\n",
    "    while (trials < max_trials) and (success < sequences):\n",
    "        x0 = -1+2*np.random.rand((2*n))\n",
    "        result = opt.least_squares(cazac_system,x0,jac='3-point',ftol=10**(-12),xtol=10**(-12),gtol=10**(-12))\n",
    "        if (result.cost < threshold):\n",
    "            sequence = result.x[:n]+1j*result.x[n:]\n",
    "            opt_result.append(sequence)\n",
    "            AC = aperiodic_autocorrelation(sequence)\n",
    "            result_psl[np.where(lengths==n)[0],success] = np.max((np.abs(AC[:n-1]),np.abs(AC[n:])))/n\n",
    "            result_isl[np.where(lengths==n)[0],success] = (np.sum(np.abs(AC[:n-1]))+np.sum(np.abs(AC[n:])))/n**2\n",
    "            success = success + 1\n",
    "        trials = trials+1\n",
    "    "
   ]
  },
  {
   "cell_type": "code",
   "execution_count": null,
   "id": "34ab8422",
   "metadata": {},
   "outputs": [],
   "source": [
    "chu_psl = []\n",
    "chu_isl = []\n",
    "bjorck_psl = []\n",
    "bjorck_isl = []\n",
    "for n in lengths:\n",
    "    x_chu = np.exp(np.pi*1j*np.arange(n)*(np.arange(n)-1)/n)\n",
    "    AC = aperiodic_autocorrelation(x_chu)\n",
    "    chu_psl.append(np.max((np.abs(AC[:n-1]),np.abs(AC[n:])))/n)\n",
    "    chu_isl.append((np.sum(np.abs(AC[:n-1]))+np.sum(np.abs(AC[n:])))/n**2)\n",
    "    x_bjorck = np.zeros(n,dtype='complex')\n",
    "    if n%4 == 3:\n",
    "        for i in np.arange(n):\n",
    "            if legendre_symbol(i,n) == -1:\n",
    "                x_bjorck[i] = np.exp(1j*np.arccos((1-n)/(1+n)))\n",
    "            else:\n",
    "                x_bjorck[i] = 1\n",
    "    if n%4 == 1:\n",
    "        for i in np.arange(n):\n",
    "            x_bjorck[i] = np.exp(1j*legendre_symbol(i,n)*np.arccos(1/(1+np.sqrt(n))))\n",
    "    AC = aperiodic_autocorrelation(x_bjorck)\n",
    "    bjorck_psl.append(np.max((np.abs(AC[:n-1]),np.abs(AC[n:])))/n)\n",
    "    bjorck_isl.append((np.sum(np.abs(AC[:n-1]))+np.sum(np.abs(AC[n:])))/n**2)"
   ]
  },
  {
   "cell_type": "code",
   "execution_count": null,
   "id": "cff8c493",
   "metadata": {},
   "outputs": [],
   "source": [
    "fig = plt.figure(figsize=(12,10))\n",
    "ax = fig.add_subplot(211)\n",
    "ax2 = fig.add_subplot(212)\n",
    "im_chu = ax.plot(lengths,chu_psl,c='#fc8d62',label='Zadoff-Chu')\n",
    "im_bjorck = ax.plot(lengths,bjorck_psl,c='#8d90db',label='Bjorck')\n",
    "im_num = ax.boxplot(result_psl.T,positions=lengths)\n",
    "ax.set_xlabel('Length',size='xx-large')\n",
    "ax.set_ylabel('PSL',size='xx-large')\n",
    "ax.legend(prop={'size':18})\n",
    "ax.tick_params(axis='both', labelsize=14)\n",
    "im2_chu = ax2.plot(lengths,chu_isl,c='#fc8d62',label='Zadoff-Chu')\n",
    "im2_bjorck = ax2.plot(lengths,bjorck_isl,c='#8d90db',label='Bjorck')\n",
    "im2_num = ax2.boxplot(result_isl.T,positions=lengths)\n",
    "ax2.set_xlabel('Length',size='xx-large')\n",
    "ax2.set_ylabel('ISL',size='xx-large')\n",
    "ax2.legend(prop={'size':18})\n",
    "ax2.tick_params(axis='both', labelsize=14)"
   ]
  },
  {
   "cell_type": "markdown",
   "id": "9240c320",
   "metadata": {},
   "source": [
    "# Ambiguity Function Comparison\n",
    "In this section we find a generic CAZAC of a given (odd) length and compare its ambiguity function to the well-known Zadoff-Chu sequence."
   ]
  },
  {
   "cell_type": "code",
   "execution_count": null,
   "id": "0ec9498a",
   "metadata": {},
   "outputs": [],
   "source": [
    "n = 43\n",
    "max_trials = 20\n",
    "threshold = 10**(-8)"
   ]
  },
  {
   "cell_type": "code",
   "execution_count": null,
   "id": "f0e3440d",
   "metadata": {},
   "outputs": [],
   "source": [
    "trials = 0\n",
    "while (trials < max_trials):\n",
    "    x0 = -1+2*np.random.rand((2*n))\n",
    "    result = opt.least_squares(cazac_system,x0)\n",
    "    if (result.cost < threshold):\n",
    "        sequence = result.x[:n]+1j*result.x[n:]\n",
    "        trials = max_trials+1\n",
    "    else:\n",
    "        trials = trials+1"
   ]
  },
  {
   "cell_type": "code",
   "execution_count": null,
   "id": "d4c2cc9b",
   "metadata": {},
   "outputs": [],
   "source": [
    "x_chu = np.exp(np.pi*1j*np.arange(n)*(np.arange(n)-1)/n)\n",
    "AF_chu = aperiodic_ambiguity(x_chu)\n",
    "AF_long = aperiodic_ambiguity(sequence)"
   ]
  },
  {
   "cell_type": "code",
   "execution_count": null,
   "id": "0f136f63",
   "metadata": {},
   "outputs": [],
   "source": [
    "fig = plt.figure(figsize=(6,12))\n",
    "ax = fig.add_subplot(211,projection='3d')\n",
    "ax2 = fig.add_subplot(212,projection='3d')\n",
    "x = np.linspace(-np.floor(n/2),np.floor(n/2),2*n-1)\n",
    "y = np.linspace(0,n-1,n)\n",
    "X, Y = np.meshgrid(x,y)\n",
    "Z = np.abs(AF_long)/n\n",
    "Z2 = np.abs(AF_chu)/n\n",
    "ax.plot_wireframe(X,Y,Z.T,color='#202020',linewidth=0.25)\n",
    "ax.set_xlabel(r'Time shift $k$')\n",
    "ax.set_ylabel(r'Doppler shift $\\ell$')\n",
    "ax.set_zlabel(r'$|A_a(x)[k,\\ell]|$')\n",
    "ax.view_init(30,225)\n",
    "ax2.view_init(30,225)\n",
    "ax2.plot_wireframe(X,Y,Z2.T,color='#202020',linewidth=0.25)\n",
    "ax2.set_xlabel(r'Time shift $k$')\n",
    "ax2.set_ylabel(r'Doppler shift $\\ell$')\n",
    "ax2.set_zlabel(r'$|A_a(x)[k,\\ell]|$')"
   ]
  }
 ],
 "metadata": {
  "kernelspec": {
   "display_name": "Python 3 (ipykernel)",
   "language": "python",
   "name": "python3"
  },
  "language_info": {
   "codemirror_mode": {
    "name": "ipython",
    "version": 3
   },
   "file_extension": ".py",
   "mimetype": "text/x-python",
   "name": "python",
   "nbconvert_exporter": "python",
   "pygments_lexer": "ipython3",
   "version": "3.9.12"
  }
 },
 "nbformat": 4,
 "nbformat_minor": 5
}
